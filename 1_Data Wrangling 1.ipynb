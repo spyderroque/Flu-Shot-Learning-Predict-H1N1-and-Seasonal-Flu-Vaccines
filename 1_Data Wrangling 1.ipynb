{
 "cells": [
  {
   "cell_type": "code",
   "execution_count": 36,
   "metadata": {},
   "outputs": [],
   "source": [
    "import polars as pl\n",
    "from sklearn import preprocessing \n",
    "import numpy as np"
   ]
  },
  {
   "cell_type": "code",
   "execution_count": 3,
   "metadata": {},
   "outputs": [],
   "source": [
    "df = pl.read_csv(\"Data/training_set_features.csv\")"
   ]
  },
  {
   "cell_type": "code",
   "execution_count": 4,
   "metadata": {},
   "outputs": [],
   "source": [
    "labels = pl.read_csv(\"Data/training_set_labels.csv\")"
   ]
  },
  {
   "cell_type": "markdown",
   "metadata": {},
   "source": [
    "# training set features"
   ]
  },
  {
   "cell_type": "code",
   "execution_count": 5,
   "metadata": {},
   "outputs": [
    {
     "data": {
      "text/plain": [
       "(26707, 36)"
      ]
     },
     "execution_count": 5,
     "metadata": {},
     "output_type": "execute_result"
    }
   ],
   "source": [
    "df.shape"
   ]
  },
  {
   "cell_type": "code",
   "execution_count": 6,
   "metadata": {},
   "outputs": [
    {
     "data": {
      "text/plain": [
       "26707"
      ]
     },
     "execution_count": 6,
     "metadata": {},
     "output_type": "execute_result"
    }
   ],
   "source": [
    "df.n_unique()"
   ]
  },
  {
   "cell_type": "code",
   "execution_count": 7,
   "metadata": {},
   "outputs": [
    {
     "data": {
      "text/html": [
       "<div><style>\n",
       ".dataframe > thead > tr,\n",
       ".dataframe > tbody > tr {\n",
       "  text-align: right;\n",
       "  white-space: pre-wrap;\n",
       "}\n",
       "</style>\n",
       "<small>shape: (9, 37)</small><table border=\"1\" class=\"dataframe\"><thead><tr><th>statistic</th><th>respondent_id</th><th>h1n1_concern</th><th>h1n1_knowledge</th><th>behavioral_antiviral_meds</th><th>behavioral_avoidance</th><th>behavioral_face_mask</th><th>behavioral_wash_hands</th><th>behavioral_large_gatherings</th><th>behavioral_outside_home</th><th>behavioral_touch_face</th><th>doctor_recc_h1n1</th><th>doctor_recc_seasonal</th><th>chronic_med_condition</th><th>child_under_6_months</th><th>health_worker</th><th>health_insurance</th><th>opinion_h1n1_vacc_effective</th><th>opinion_h1n1_risk</th><th>opinion_h1n1_sick_from_vacc</th><th>opinion_seas_vacc_effective</th><th>opinion_seas_risk</th><th>opinion_seas_sick_from_vacc</th><th>age_group</th><th>education</th><th>race</th><th>sex</th><th>income_poverty</th><th>marital_status</th><th>rent_or_own</th><th>employment_status</th><th>hhs_geo_region</th><th>census_msa</th><th>household_adults</th><th>household_children</th><th>employment_industry</th><th>employment_occupation</th></tr><tr><td>str</td><td>f64</td><td>f64</td><td>f64</td><td>f64</td><td>f64</td><td>f64</td><td>f64</td><td>f64</td><td>f64</td><td>f64</td><td>f64</td><td>f64</td><td>f64</td><td>f64</td><td>f64</td><td>f64</td><td>f64</td><td>f64</td><td>f64</td><td>f64</td><td>f64</td><td>f64</td><td>str</td><td>str</td><td>str</td><td>str</td><td>str</td><td>str</td><td>str</td><td>str</td><td>str</td><td>str</td><td>f64</td><td>f64</td><td>str</td><td>str</td></tr></thead><tbody><tr><td>&quot;count&quot;</td><td>26707.0</td><td>26615.0</td><td>26591.0</td><td>26636.0</td><td>26499.0</td><td>26688.0</td><td>26665.0</td><td>26620.0</td><td>26625.0</td><td>26579.0</td><td>24547.0</td><td>24547.0</td><td>25736.0</td><td>25887.0</td><td>25903.0</td><td>14433.0</td><td>26316.0</td><td>26319.0</td><td>26312.0</td><td>26245.0</td><td>26193.0</td><td>26170.0</td><td>&quot;26707&quot;</td><td>&quot;25300&quot;</td><td>&quot;26707&quot;</td><td>&quot;26707&quot;</td><td>&quot;22284&quot;</td><td>&quot;25299&quot;</td><td>&quot;24665&quot;</td><td>&quot;25244&quot;</td><td>&quot;26707&quot;</td><td>&quot;26707&quot;</td><td>26458.0</td><td>26458.0</td><td>&quot;13377&quot;</td><td>&quot;13237&quot;</td></tr><tr><td>&quot;null_count&quot;</td><td>0.0</td><td>92.0</td><td>116.0</td><td>71.0</td><td>208.0</td><td>19.0</td><td>42.0</td><td>87.0</td><td>82.0</td><td>128.0</td><td>2160.0</td><td>2160.0</td><td>971.0</td><td>820.0</td><td>804.0</td><td>12274.0</td><td>391.0</td><td>388.0</td><td>395.0</td><td>462.0</td><td>514.0</td><td>537.0</td><td>&quot;0&quot;</td><td>&quot;1407&quot;</td><td>&quot;0&quot;</td><td>&quot;0&quot;</td><td>&quot;4423&quot;</td><td>&quot;1408&quot;</td><td>&quot;2042&quot;</td><td>&quot;1463&quot;</td><td>&quot;0&quot;</td><td>&quot;0&quot;</td><td>249.0</td><td>249.0</td><td>&quot;13330&quot;</td><td>&quot;13470&quot;</td></tr><tr><td>&quot;mean&quot;</td><td>13353.0</td><td>1.618486</td><td>1.262532</td><td>0.048844</td><td>0.725612</td><td>0.068982</td><td>0.825614</td><td>0.35864</td><td>0.337315</td><td>0.677264</td><td>0.220312</td><td>0.329735</td><td>0.283261</td><td>0.08259</td><td>0.111918</td><td>0.87972</td><td>3.850623</td><td>2.342566</td><td>2.35767</td><td>4.025986</td><td>2.719162</td><td>2.118112</td><td>null</td><td>null</td><td>null</td><td>null</td><td>null</td><td>null</td><td>null</td><td>null</td><td>null</td><td>null</td><td>0.886499</td><td>0.534583</td><td>null</td><td>null</td></tr><tr><td>&quot;std&quot;</td><td>7709.791156</td><td>0.910311</td><td>0.618149</td><td>0.215545</td><td>0.446214</td><td>0.253429</td><td>0.379448</td><td>0.47961</td><td>0.472802</td><td>0.467531</td><td>0.414466</td><td>0.470126</td><td>0.450591</td><td>0.275266</td><td>0.315271</td><td>0.3253</td><td>1.007436</td><td>1.285539</td><td>1.362766</td><td>1.086565</td><td>1.385055</td><td>1.33295</td><td>null</td><td>null</td><td>null</td><td>null</td><td>null</td><td>null</td><td>null</td><td>null</td><td>null</td><td>null</td><td>0.753422</td><td>0.928173</td><td>null</td><td>null</td></tr><tr><td>&quot;min&quot;</td><td>0.0</td><td>0.0</td><td>0.0</td><td>0.0</td><td>0.0</td><td>0.0</td><td>0.0</td><td>0.0</td><td>0.0</td><td>0.0</td><td>0.0</td><td>0.0</td><td>0.0</td><td>0.0</td><td>0.0</td><td>0.0</td><td>1.0</td><td>1.0</td><td>1.0</td><td>1.0</td><td>1.0</td><td>1.0</td><td>&quot;18 - 34 Years&quot;</td><td>&quot;12 Years&quot;</td><td>&quot;Black&quot;</td><td>&quot;Female&quot;</td><td>&quot;&lt;= $75,000, Above Poverty&quot;</td><td>&quot;Married&quot;</td><td>&quot;Own&quot;</td><td>&quot;Employed&quot;</td><td>&quot;atmpeygn&quot;</td><td>&quot;MSA, Not Principle  City&quot;</td><td>0.0</td><td>0.0</td><td>&quot;arjwrbjb&quot;</td><td>&quot;bxpfxfdn&quot;</td></tr><tr><td>&quot;25%&quot;</td><td>6677.0</td><td>1.0</td><td>1.0</td><td>0.0</td><td>0.0</td><td>0.0</td><td>1.0</td><td>0.0</td><td>0.0</td><td>0.0</td><td>0.0</td><td>0.0</td><td>0.0</td><td>0.0</td><td>0.0</td><td>1.0</td><td>3.0</td><td>1.0</td><td>1.0</td><td>4.0</td><td>2.0</td><td>1.0</td><td>null</td><td>null</td><td>null</td><td>null</td><td>null</td><td>null</td><td>null</td><td>null</td><td>null</td><td>null</td><td>0.0</td><td>0.0</td><td>null</td><td>null</td></tr><tr><td>&quot;50%&quot;</td><td>13353.0</td><td>2.0</td><td>1.0</td><td>0.0</td><td>1.0</td><td>0.0</td><td>1.0</td><td>0.0</td><td>0.0</td><td>1.0</td><td>0.0</td><td>0.0</td><td>0.0</td><td>0.0</td><td>0.0</td><td>1.0</td><td>4.0</td><td>2.0</td><td>2.0</td><td>4.0</td><td>2.0</td><td>2.0</td><td>null</td><td>null</td><td>null</td><td>null</td><td>null</td><td>null</td><td>null</td><td>null</td><td>null</td><td>null</td><td>1.0</td><td>0.0</td><td>null</td><td>null</td></tr><tr><td>&quot;75%&quot;</td><td>20030.0</td><td>2.0</td><td>2.0</td><td>0.0</td><td>1.0</td><td>0.0</td><td>1.0</td><td>1.0</td><td>1.0</td><td>1.0</td><td>0.0</td><td>1.0</td><td>1.0</td><td>0.0</td><td>0.0</td><td>1.0</td><td>5.0</td><td>4.0</td><td>4.0</td><td>5.0</td><td>4.0</td><td>4.0</td><td>null</td><td>null</td><td>null</td><td>null</td><td>null</td><td>null</td><td>null</td><td>null</td><td>null</td><td>null</td><td>1.0</td><td>1.0</td><td>null</td><td>null</td></tr><tr><td>&quot;max&quot;</td><td>26706.0</td><td>3.0</td><td>2.0</td><td>1.0</td><td>1.0</td><td>1.0</td><td>1.0</td><td>1.0</td><td>1.0</td><td>1.0</td><td>1.0</td><td>1.0</td><td>1.0</td><td>1.0</td><td>1.0</td><td>1.0</td><td>5.0</td><td>5.0</td><td>5.0</td><td>5.0</td><td>5.0</td><td>5.0</td><td>&quot;65+ Years&quot;</td><td>&quot;Some College&quot;</td><td>&quot;White&quot;</td><td>&quot;Male&quot;</td><td>&quot;Below Poverty&quot;</td><td>&quot;Not Married&quot;</td><td>&quot;Rent&quot;</td><td>&quot;Unemployed&quot;</td><td>&quot;qufhixun&quot;</td><td>&quot;Non-MSA&quot;</td><td>3.0</td><td>3.0</td><td>&quot;xqicxuve&quot;</td><td>&quot;xzmlyyjv&quot;</td></tr></tbody></table></div>"
      ],
      "text/plain": [
       "shape: (9, 37)\n",
       "┌───────────┬───────────┬───────────┬───────────┬───┬───────────┬───────────┬───────────┬──────────┐\n",
       "│ statistic ┆ responden ┆ h1n1_conc ┆ h1n1_know ┆ … ┆ household ┆ household ┆ employmen ┆ employme │\n",
       "│ ---       ┆ t_id      ┆ ern       ┆ ledge     ┆   ┆ _adults   ┆ _children ┆ t_industr ┆ nt_occup │\n",
       "│ str       ┆ ---       ┆ ---       ┆ ---       ┆   ┆ ---       ┆ ---       ┆ y         ┆ ation    │\n",
       "│           ┆ f64       ┆ f64       ┆ f64       ┆   ┆ f64       ┆ f64       ┆ ---       ┆ ---      │\n",
       "│           ┆           ┆           ┆           ┆   ┆           ┆           ┆ str       ┆ str      │\n",
       "╞═══════════╪═══════════╪═══════════╪═══════════╪═══╪═══════════╪═══════════╪═══════════╪══════════╡\n",
       "│ count     ┆ 26707.0   ┆ 26615.0   ┆ 26591.0   ┆ … ┆ 26458.0   ┆ 26458.0   ┆ 13377     ┆ 13237    │\n",
       "│ null_coun ┆ 0.0       ┆ 92.0      ┆ 116.0     ┆ … ┆ 249.0     ┆ 249.0     ┆ 13330     ┆ 13470    │\n",
       "│ t         ┆           ┆           ┆           ┆   ┆           ┆           ┆           ┆          │\n",
       "│ mean      ┆ 13353.0   ┆ 1.618486  ┆ 1.262532  ┆ … ┆ 0.886499  ┆ 0.534583  ┆ null      ┆ null     │\n",
       "│ std       ┆ 7709.7911 ┆ 0.910311  ┆ 0.618149  ┆ … ┆ 0.753422  ┆ 0.928173  ┆ null      ┆ null     │\n",
       "│           ┆ 56        ┆           ┆           ┆   ┆           ┆           ┆           ┆          │\n",
       "│ min       ┆ 0.0       ┆ 0.0       ┆ 0.0       ┆ … ┆ 0.0       ┆ 0.0       ┆ arjwrbjb  ┆ bxpfxfdn │\n",
       "│ 25%       ┆ 6677.0    ┆ 1.0       ┆ 1.0       ┆ … ┆ 0.0       ┆ 0.0       ┆ null      ┆ null     │\n",
       "│ 50%       ┆ 13353.0   ┆ 2.0       ┆ 1.0       ┆ … ┆ 1.0       ┆ 0.0       ┆ null      ┆ null     │\n",
       "│ 75%       ┆ 20030.0   ┆ 2.0       ┆ 2.0       ┆ … ┆ 1.0       ┆ 1.0       ┆ null      ┆ null     │\n",
       "│ max       ┆ 26706.0   ┆ 3.0       ┆ 2.0       ┆ … ┆ 3.0       ┆ 3.0       ┆ xqicxuve  ┆ xzmlyyjv │\n",
       "└───────────┴───────────┴───────────┴───────────┴───┴───────────┴───────────┴───────────┴──────────┘"
      ]
     },
     "execution_count": 7,
     "metadata": {},
     "output_type": "execute_result"
    }
   ],
   "source": [
    "df.describe()"
   ]
  },
  {
   "cell_type": "code",
   "execution_count": 8,
   "metadata": {},
   "outputs": [
    {
     "data": {
      "text/html": [
       "<div><style>\n",
       ".dataframe > thead > tr,\n",
       ".dataframe > tbody > tr {\n",
       "  text-align: right;\n",
       "  white-space: pre-wrap;\n",
       "}\n",
       "</style>\n",
       "<small>shape: (1, 36)</small><table border=\"1\" class=\"dataframe\"><thead><tr><th>respondent_id</th><th>h1n1_concern</th><th>h1n1_knowledge</th><th>behavioral_antiviral_meds</th><th>behavioral_avoidance</th><th>behavioral_face_mask</th><th>behavioral_wash_hands</th><th>behavioral_large_gatherings</th><th>behavioral_outside_home</th><th>behavioral_touch_face</th><th>doctor_recc_h1n1</th><th>doctor_recc_seasonal</th><th>chronic_med_condition</th><th>child_under_6_months</th><th>health_worker</th><th>health_insurance</th><th>opinion_h1n1_vacc_effective</th><th>opinion_h1n1_risk</th><th>opinion_h1n1_sick_from_vacc</th><th>opinion_seas_vacc_effective</th><th>opinion_seas_risk</th><th>opinion_seas_sick_from_vacc</th><th>age_group</th><th>education</th><th>race</th><th>sex</th><th>income_poverty</th><th>marital_status</th><th>rent_or_own</th><th>employment_status</th><th>hhs_geo_region</th><th>census_msa</th><th>household_adults</th><th>household_children</th><th>employment_industry</th><th>employment_occupation</th></tr><tr><td>u32</td><td>u32</td><td>u32</td><td>u32</td><td>u32</td><td>u32</td><td>u32</td><td>u32</td><td>u32</td><td>u32</td><td>u32</td><td>u32</td><td>u32</td><td>u32</td><td>u32</td><td>u32</td><td>u32</td><td>u32</td><td>u32</td><td>u32</td><td>u32</td><td>u32</td><td>u32</td><td>u32</td><td>u32</td><td>u32</td><td>u32</td><td>u32</td><td>u32</td><td>u32</td><td>u32</td><td>u32</td><td>u32</td><td>u32</td><td>u32</td><td>u32</td></tr></thead><tbody><tr><td>0</td><td>92</td><td>116</td><td>71</td><td>208</td><td>19</td><td>42</td><td>87</td><td>82</td><td>128</td><td>2160</td><td>2160</td><td>971</td><td>820</td><td>804</td><td>12274</td><td>391</td><td>388</td><td>395</td><td>462</td><td>514</td><td>537</td><td>0</td><td>1407</td><td>0</td><td>0</td><td>4423</td><td>1408</td><td>2042</td><td>1463</td><td>0</td><td>0</td><td>249</td><td>249</td><td>13330</td><td>13470</td></tr></tbody></table></div>"
      ],
      "text/plain": [
       "shape: (1, 36)\n",
       "┌───────────┬───────────┬───────────┬───────────┬───┬───────────┬───────────┬───────────┬──────────┐\n",
       "│ responden ┆ h1n1_conc ┆ h1n1_know ┆ behaviora ┆ … ┆ household ┆ household ┆ employmen ┆ employme │\n",
       "│ t_id      ┆ ern       ┆ ledge     ┆ l_antivir ┆   ┆ _adults   ┆ _children ┆ t_industr ┆ nt_occup │\n",
       "│ ---       ┆ ---       ┆ ---       ┆ al_meds   ┆   ┆ ---       ┆ ---       ┆ y         ┆ ation    │\n",
       "│ u32       ┆ u32       ┆ u32       ┆ ---       ┆   ┆ u32       ┆ u32       ┆ ---       ┆ ---      │\n",
       "│           ┆           ┆           ┆ u32       ┆   ┆           ┆           ┆ u32       ┆ u32      │\n",
       "╞═══════════╪═══════════╪═══════════╪═══════════╪═══╪═══════════╪═══════════╪═══════════╪══════════╡\n",
       "│ 0         ┆ 92        ┆ 116       ┆ 71        ┆ … ┆ 249       ┆ 249       ┆ 13330     ┆ 13470    │\n",
       "└───────────┴───────────┴───────────┴───────────┴───┴───────────┴───────────┴───────────┴──────────┘"
      ]
     },
     "execution_count": 8,
     "metadata": {},
     "output_type": "execute_result"
    }
   ],
   "source": [
    "df.null_count()"
   ]
  },
  {
   "cell_type": "markdown",
   "metadata": {},
   "source": [
    "So every column has some N/A values, exception: age_group, race, sex, hhs_geo_region (residence region), census_msa\n",
    "\n",
    "A significant number amount of rows miss information about health insurance, employment industry and employment occupation."
   ]
  },
  {
   "cell_type": "code",
   "execution_count": 9,
   "metadata": {},
   "outputs": [
    {
     "data": {
      "text/html": [
       "<div><style>\n",
       ".dataframe > thead > tr,\n",
       ".dataframe > tbody > tr {\n",
       "  text-align: right;\n",
       "  white-space: pre-wrap;\n",
       "}\n",
       "</style>\n",
       "<small>shape: (5, 1)</small><table border=\"1\" class=\"dataframe\"><thead><tr><th>h1n1_concern</th></tr><tr><td>i64</td></tr></thead><tbody><tr><td>3</td></tr><tr><td>null</td></tr><tr><td>0</td></tr><tr><td>1</td></tr><tr><td>2</td></tr></tbody></table></div>"
      ],
      "text/plain": [
       "shape: (5, 1)\n",
       "┌──────────────┐\n",
       "│ h1n1_concern │\n",
       "│ ---          │\n",
       "│ i64          │\n",
       "╞══════════════╡\n",
       "│ 3            │\n",
       "│ null         │\n",
       "│ 0            │\n",
       "│ 1            │\n",
       "│ 2            │\n",
       "└──────────────┘"
      ]
     },
     "execution_count": 9,
     "metadata": {},
     "output_type": "execute_result"
    }
   ],
   "source": [
    "df.select(pl.col(\"h1n1_concern\").arr.explode()).unique()"
   ]
  },
  {
   "cell_type": "code",
   "execution_count": 10,
   "metadata": {},
   "outputs": [
    {
     "name": "stdout",
     "output_type": "stream",
     "text": [
      "shape: (26_707, 1)\n",
      "┌───────────────┐\n",
      "│ respondent_id │\n",
      "│ ---           │\n",
      "│ i64           │\n",
      "╞═══════════════╡\n",
      "│ 17715         │\n",
      "│ 23613         │\n",
      "│ 24381         │\n",
      "│ 399           │\n",
      "│ 22297         │\n",
      "│ …             │\n",
      "│ 1953          │\n",
      "│ 9155          │\n",
      "│ 18203         │\n",
      "│ 9807          │\n",
      "│ 23324         │\n",
      "└───────────────┘\n",
      "shape: (5, 1)\n",
      "┌──────────────┐\n",
      "│ h1n1_concern │\n",
      "│ ---          │\n",
      "│ i64          │\n",
      "╞══════════════╡\n",
      "│ 3            │\n",
      "│ 0            │\n",
      "│ null         │\n",
      "│ 1            │\n",
      "│ 2            │\n",
      "└──────────────┘\n",
      "shape: (4, 1)\n",
      "┌────────────────┐\n",
      "│ h1n1_knowledge │\n",
      "│ ---            │\n",
      "│ i64            │\n",
      "╞════════════════╡\n",
      "│ null           │\n",
      "│ 0              │\n",
      "│ 1              │\n",
      "│ 2              │\n",
      "└────────────────┘\n",
      "shape: (3, 1)\n",
      "┌───────────────────────────┐\n",
      "│ behavioral_antiviral_meds │\n",
      "│ ---                       │\n",
      "│ i64                       │\n",
      "╞═══════════════════════════╡\n",
      "│ null                      │\n",
      "│ 0                         │\n",
      "│ 1                         │\n",
      "└───────────────────────────┘\n",
      "shape: (3, 1)\n",
      "┌──────────────────────┐\n",
      "│ behavioral_avoidance │\n",
      "│ ---                  │\n",
      "│ i64                  │\n",
      "╞══════════════════════╡\n",
      "│ null                 │\n",
      "│ 0                    │\n",
      "│ 1                    │\n",
      "└──────────────────────┘\n",
      "shape: (3, 1)\n",
      "┌──────────────────────┐\n",
      "│ behavioral_face_mask │\n",
      "│ ---                  │\n",
      "│ i64                  │\n",
      "╞══════════════════════╡\n",
      "│ null                 │\n",
      "│ 0                    │\n",
      "│ 1                    │\n",
      "└──────────────────────┘\n",
      "shape: (3, 1)\n",
      "┌───────────────────────┐\n",
      "│ behavioral_wash_hands │\n",
      "│ ---                   │\n",
      "│ i64                   │\n",
      "╞═══════════════════════╡\n",
      "│ null                  │\n",
      "│ 0                     │\n",
      "│ 1                     │\n",
      "└───────────────────────┘\n",
      "shape: (3, 1)\n",
      "┌─────────────────────────────┐\n",
      "│ behavioral_large_gatherings │\n",
      "│ ---                         │\n",
      "│ i64                         │\n",
      "╞═════════════════════════════╡\n",
      "│ 0                           │\n",
      "│ null                        │\n",
      "│ 1                           │\n",
      "└─────────────────────────────┘\n",
      "shape: (3, 1)\n",
      "┌─────────────────────────┐\n",
      "│ behavioral_outside_home │\n",
      "│ ---                     │\n",
      "│ i64                     │\n",
      "╞═════════════════════════╡\n",
      "│ 0                       │\n",
      "│ null                    │\n",
      "│ 1                       │\n",
      "└─────────────────────────┘\n",
      "shape: (3, 1)\n",
      "┌───────────────────────┐\n",
      "│ behavioral_touch_face │\n",
      "│ ---                   │\n",
      "│ i64                   │\n",
      "╞═══════════════════════╡\n",
      "│ null                  │\n",
      "│ 0                     │\n",
      "│ 1                     │\n",
      "└───────────────────────┘\n",
      "shape: (3, 1)\n",
      "┌──────────────────┐\n",
      "│ doctor_recc_h1n1 │\n",
      "│ ---              │\n",
      "│ i64              │\n",
      "╞══════════════════╡\n",
      "│ null             │\n",
      "│ 0                │\n",
      "│ 1                │\n",
      "└──────────────────┘\n",
      "shape: (3, 1)\n",
      "┌──────────────────────┐\n",
      "│ doctor_recc_seasonal │\n",
      "│ ---                  │\n",
      "│ i64                  │\n",
      "╞══════════════════════╡\n",
      "│ 0                    │\n",
      "│ null                 │\n",
      "│ 1                    │\n",
      "└──────────────────────┘\n",
      "shape: (3, 1)\n",
      "┌───────────────────────┐\n",
      "│ chronic_med_condition │\n",
      "│ ---                   │\n",
      "│ i64                   │\n",
      "╞═══════════════════════╡\n",
      "│ 0                     │\n",
      "│ null                  │\n",
      "│ 1                     │\n",
      "└───────────────────────┘\n",
      "shape: (3, 1)\n",
      "┌──────────────────────┐\n",
      "│ child_under_6_months │\n",
      "│ ---                  │\n",
      "│ i64                  │\n",
      "╞══════════════════════╡\n",
      "│ 0                    │\n",
      "│ null                 │\n",
      "│ 1                    │\n",
      "└──────────────────────┘\n",
      "shape: (3, 1)\n",
      "┌───────────────┐\n",
      "│ health_worker │\n",
      "│ ---           │\n",
      "│ i64           │\n",
      "╞═══════════════╡\n",
      "│ 0             │\n",
      "│ null          │\n",
      "│ 1             │\n",
      "└───────────────┘\n",
      "shape: (3, 1)\n",
      "┌──────────────────┐\n",
      "│ health_insurance │\n",
      "│ ---              │\n",
      "│ i64              │\n",
      "╞══════════════════╡\n",
      "│ null             │\n",
      "│ 0                │\n",
      "│ 1                │\n",
      "└──────────────────┘\n",
      "shape: (6, 1)\n",
      "┌─────────────────────────────┐\n",
      "│ opinion_h1n1_vacc_effective │\n",
      "│ ---                         │\n",
      "│ i64                         │\n",
      "╞═════════════════════════════╡\n",
      "│ 3                           │\n",
      "│ null                        │\n",
      "│ 4                           │\n",
      "│ 1                           │\n",
      "│ 2                           │\n",
      "│ 5                           │\n",
      "└─────────────────────────────┘\n",
      "shape: (6, 1)\n",
      "┌───────────────────┐\n",
      "│ opinion_h1n1_risk │\n",
      "│ ---               │\n",
      "│ i64               │\n",
      "╞═══════════════════╡\n",
      "│ 3                 │\n",
      "│ null              │\n",
      "│ 4                 │\n",
      "│ 1                 │\n",
      "│ 2                 │\n",
      "│ 5                 │\n",
      "└───────────────────┘\n",
      "shape: (6, 1)\n",
      "┌─────────────────────────────┐\n",
      "│ opinion_h1n1_sick_from_vacc │\n",
      "│ ---                         │\n",
      "│ i64                         │\n",
      "╞═════════════════════════════╡\n",
      "│ null                        │\n",
      "│ 3                           │\n",
      "│ 4                           │\n",
      "│ 1                           │\n",
      "│ 2                           │\n",
      "│ 5                           │\n",
      "└─────────────────────────────┘\n",
      "shape: (6, 1)\n",
      "┌─────────────────────────────┐\n",
      "│ opinion_seas_vacc_effective │\n",
      "│ ---                         │\n",
      "│ i64                         │\n",
      "╞═════════════════════════════╡\n",
      "│ 3                           │\n",
      "│ null                        │\n",
      "│ 4                           │\n",
      "│ 1                           │\n",
      "│ 2                           │\n",
      "│ 5                           │\n",
      "└─────────────────────────────┘\n",
      "shape: (6, 1)\n",
      "┌───────────────────┐\n",
      "│ opinion_seas_risk │\n",
      "│ ---               │\n",
      "│ i64               │\n",
      "╞═══════════════════╡\n",
      "│ 3                 │\n",
      "│ null              │\n",
      "│ 1                 │\n",
      "│ 4                 │\n",
      "│ 5                 │\n",
      "│ 2                 │\n",
      "└───────────────────┘\n",
      "shape: (6, 1)\n",
      "┌─────────────────────────────┐\n",
      "│ opinion_seas_sick_from_vacc │\n",
      "│ ---                         │\n",
      "│ i64                         │\n",
      "╞═════════════════════════════╡\n",
      "│ null                        │\n",
      "│ 3                           │\n",
      "│ 1                           │\n",
      "│ 4                           │\n",
      "│ 2                           │\n",
      "│ 5                           │\n",
      "└─────────────────────────────┘\n",
      "shape: (5, 1)\n",
      "┌───────────────┐\n",
      "│ age_group     │\n",
      "│ ---           │\n",
      "│ str           │\n",
      "╞═══════════════╡\n",
      "│ 55 - 64 Years │\n",
      "│ 18 - 34 Years │\n",
      "│ 45 - 54 Years │\n",
      "│ 35 - 44 Years │\n",
      "│ 65+ Years     │\n",
      "└───────────────┘\n",
      "shape: (5, 1)\n",
      "┌──────────────────┐\n",
      "│ education        │\n",
      "│ ---              │\n",
      "│ str              │\n",
      "╞══════════════════╡\n",
      "│ 12 Years         │\n",
      "│ null             │\n",
      "│ < 12 Years       │\n",
      "│ Some College     │\n",
      "│ College Graduate │\n",
      "└──────────────────┘\n",
      "shape: (4, 1)\n",
      "┌───────────────────┐\n",
      "│ race              │\n",
      "│ ---               │\n",
      "│ str               │\n",
      "╞═══════════════════╡\n",
      "│ White             │\n",
      "│ Hispanic          │\n",
      "│ Other or Multiple │\n",
      "│ Black             │\n",
      "└───────────────────┘\n",
      "shape: (2, 1)\n",
      "┌────────┐\n",
      "│ sex    │\n",
      "│ ---    │\n",
      "│ str    │\n",
      "╞════════╡\n",
      "│ Male   │\n",
      "│ Female │\n",
      "└────────┘\n",
      "shape: (4, 1)\n",
      "┌───────────────────────────┐\n",
      "│ income_poverty            │\n",
      "│ ---                       │\n",
      "│ str                       │\n",
      "╞═══════════════════════════╡\n",
      "│ <= $75,000, Above Poverty │\n",
      "│ null                      │\n",
      "│ > $75,000                 │\n",
      "│ Below Poverty             │\n",
      "└───────────────────────────┘\n",
      "shape: (3, 1)\n",
      "┌────────────────┐\n",
      "│ marital_status │\n",
      "│ ---            │\n",
      "│ str            │\n",
      "╞════════════════╡\n",
      "│ Not Married    │\n",
      "│ null           │\n",
      "│ Married        │\n",
      "└────────────────┘\n",
      "shape: (3, 1)\n",
      "┌─────────────┐\n",
      "│ rent_or_own │\n",
      "│ ---         │\n",
      "│ str         │\n",
      "╞═════════════╡\n",
      "│ null        │\n",
      "│ Own         │\n",
      "│ Rent        │\n",
      "└─────────────┘\n",
      "shape: (4, 1)\n",
      "┌────────────────────┐\n",
      "│ employment_status  │\n",
      "│ ---                │\n",
      "│ str                │\n",
      "╞════════════════════╡\n",
      "│ null               │\n",
      "│ Employed           │\n",
      "│ Not in Labor Force │\n",
      "│ Unemployed         │\n",
      "└────────────────────┘\n",
      "shape: (10, 1)\n",
      "┌────────────────┐\n",
      "│ hhs_geo_region │\n",
      "│ ---            │\n",
      "│ str            │\n",
      "╞════════════════╡\n",
      "│ mlyzmhmf       │\n",
      "│ lzgpxyit       │\n",
      "│ fpwskwrf       │\n",
      "│ lrircsnp       │\n",
      "│ atmpeygn       │\n",
      "│ dqpwygqj       │\n",
      "│ qufhixun       │\n",
      "│ kbazzjca       │\n",
      "│ oxchjgsf       │\n",
      "│ bhuqouqj       │\n",
      "└────────────────┘\n",
      "shape: (3, 1)\n",
      "┌──────────────────────────┐\n",
      "│ census_msa               │\n",
      "│ ---                      │\n",
      "│ str                      │\n",
      "╞══════════════════════════╡\n",
      "│ MSA, Not Principle  City │\n",
      "│ Non-MSA                  │\n",
      "│ MSA, Principle City      │\n",
      "└──────────────────────────┘\n",
      "shape: (5, 1)\n",
      "┌──────────────────┐\n",
      "│ household_adults │\n",
      "│ ---              │\n",
      "│ i64              │\n",
      "╞══════════════════╡\n",
      "│ null             │\n",
      "│ 0                │\n",
      "│ 3                │\n",
      "│ 1                │\n",
      "│ 2                │\n",
      "└──────────────────┘\n",
      "shape: (5, 1)\n",
      "┌────────────────────┐\n",
      "│ household_children │\n",
      "│ ---                │\n",
      "│ i64                │\n",
      "╞════════════════════╡\n",
      "│ 3                  │\n",
      "│ 0                  │\n",
      "│ null               │\n",
      "│ 1                  │\n",
      "│ 2                  │\n",
      "└────────────────────┘\n",
      "shape: (22, 1)\n",
      "┌─────────────────────┐\n",
      "│ employment_industry │\n",
      "│ ---                 │\n",
      "│ str                 │\n",
      "╞═════════════════════╡\n",
      "│ phxvnwax            │\n",
      "│ xicduogh            │\n",
      "│ saaquncn            │\n",
      "│ null                │\n",
      "│ nduyfdeo            │\n",
      "│ …                   │\n",
      "│ mcubkhph            │\n",
      "│ haxffmxo            │\n",
      "│ dotnnunm            │\n",
      "│ atmlpfrs            │\n",
      "│ ldnlellj            │\n",
      "└─────────────────────┘\n",
      "shape: (24, 1)\n",
      "┌───────────────────────┐\n",
      "│ employment_occupation │\n",
      "│ ---                   │\n",
      "│ str                   │\n",
      "╞═══════════════════════╡\n",
      "│ kldqjyjy              │\n",
      "│ dcjcmpih              │\n",
      "│ qxajmpny              │\n",
      "│ pvmttkik              │\n",
      "│ xgwztkwe              │\n",
      "│ …                     │\n",
      "│ haliazsg              │\n",
      "│ xqwwgdyp              │\n",
      "│ emcorrxb              │\n",
      "│ xtkaffoo              │\n",
      "│ null                  │\n",
      "└───────────────────────┘\n"
     ]
    }
   ],
   "source": [
    "# check what the categories in each column are, for some columns such as age group the categories are not described\n",
    "for col in df.columns:\n",
    "    print(df.select(pl.col(col).arr.explode()).unique())"
   ]
  },
  {
   "cell_type": "code",
   "execution_count": 11,
   "metadata": {},
   "outputs": [
    {
     "data": {
      "text/plain": [
       "'\\nfor col in df.columns:\\n    vars()[col] = df.select(pl.col(col).arr.explode()).unique()\\n'"
      ]
     },
     "execution_count": 11,
     "metadata": {},
     "output_type": "execute_result"
    }
   ],
   "source": [
    "# create a variable for each column (useful in visual code)\n",
    "'''\n",
    "for col in df.columns:\n",
    "    vars()[col] = df.select(pl.col(col).arr.explode()).unique()\n",
    "'''"
   ]
  },
  {
   "cell_type": "code",
   "execution_count": 24,
   "metadata": {},
   "outputs": [
    {
     "name": "stdout",
     "output_type": "stream",
     "text": [
      "number of remaining rows: 6437\n",
      "remaining rows: 24.10 %\n"
     ]
    }
   ],
   "source": [
    "# let's find out how many rows remain after removing N/A values in any column\n",
    "print('number of remaining rows: {}'.format(df.drop_nulls().shape[0]))\n",
    "print('remaining rows: {Wert:.2f} %'.format(Wert = df.drop_nulls().shape[0] / df.shape[0] * 100))"
   ]
  },
  {
   "cell_type": "markdown",
   "metadata": {},
   "source": [
    "<div class=\"alert alert-block alert-info\">\n",
    "<b>Dropping rows with null values is not an option here.</b>\n",
    "</div>"
   ]
  },
  {
   "cell_type": "code",
   "execution_count": 35,
   "metadata": {},
   "outputs": [
    {
     "name": "stdout",
     "output_type": "stream",
     "text": [
      "number of remaining rows: 19642\n",
      "remaining rows: 73.55 %\n"
     ]
    }
   ],
   "source": [
    "# let's find out how many rows remain after removing N/A values in any column, WHEN HEALTH INSURANCE, EMPLOYMENT INDUSTRY AND EMPLOYMENT OCCUPATION ARE IGNORED\n",
    "print('number of remaining rows: {}'.format(df.drop('health_insurance', 'employment_industry', 'employment_occupation').drop_nulls().shape[0]))\n",
    "print('remaining rows: {Wert:.2f} %'.format(Wert = df.drop('health_insurance', 'employment_industry', 'employment_occupation').drop_nulls().shape[0] / df.shape[0] * 100))"
   ]
  },
  {
   "cell_type": "markdown",
   "metadata": {},
   "source": [
    "<div class=\"alert alert-block alert-info\">\n",
    "<b>Dropping rows with null values, but without considering health insurance, employment industry and occupation might work.</b>\n",
    "</div>"
   ]
  },
  {
   "cell_type": "markdown",
   "metadata": {},
   "source": [
    "# Training set labels"
   ]
  },
  {
   "cell_type": "code",
   "execution_count": 13,
   "metadata": {},
   "outputs": [
    {
     "data": {
      "text/plain": [
       "(26707, 3)"
      ]
     },
     "execution_count": 13,
     "metadata": {},
     "output_type": "execute_result"
    }
   ],
   "source": [
    "labels.shape"
   ]
  },
  {
   "cell_type": "code",
   "execution_count": 14,
   "metadata": {},
   "outputs": [
    {
     "data": {
      "text/plain": [
       "26707"
      ]
     },
     "execution_count": 14,
     "metadata": {},
     "output_type": "execute_result"
    }
   ],
   "source": [
    "labels.n_unique()"
   ]
  },
  {
   "cell_type": "code",
   "execution_count": 15,
   "metadata": {},
   "outputs": [
    {
     "data": {
      "text/html": [
       "<div><style>\n",
       ".dataframe > thead > tr,\n",
       ".dataframe > tbody > tr {\n",
       "  text-align: right;\n",
       "  white-space: pre-wrap;\n",
       "}\n",
       "</style>\n",
       "<small>shape: (9, 4)</small><table border=\"1\" class=\"dataframe\"><thead><tr><th>statistic</th><th>respondent_id</th><th>h1n1_vaccine</th><th>seasonal_vaccine</th></tr><tr><td>str</td><td>f64</td><td>f64</td><td>f64</td></tr></thead><tbody><tr><td>&quot;count&quot;</td><td>26707.0</td><td>26707.0</td><td>26707.0</td></tr><tr><td>&quot;null_count&quot;</td><td>0.0</td><td>0.0</td><td>0.0</td></tr><tr><td>&quot;mean&quot;</td><td>13353.0</td><td>0.212454</td><td>0.465608</td></tr><tr><td>&quot;std&quot;</td><td>7709.791156</td><td>0.409052</td><td>0.498825</td></tr><tr><td>&quot;min&quot;</td><td>0.0</td><td>0.0</td><td>0.0</td></tr><tr><td>&quot;25%&quot;</td><td>6677.0</td><td>0.0</td><td>0.0</td></tr><tr><td>&quot;50%&quot;</td><td>13353.0</td><td>0.0</td><td>0.0</td></tr><tr><td>&quot;75%&quot;</td><td>20030.0</td><td>0.0</td><td>1.0</td></tr><tr><td>&quot;max&quot;</td><td>26706.0</td><td>1.0</td><td>1.0</td></tr></tbody></table></div>"
      ],
      "text/plain": [
       "shape: (9, 4)\n",
       "┌────────────┬───────────────┬──────────────┬──────────────────┐\n",
       "│ statistic  ┆ respondent_id ┆ h1n1_vaccine ┆ seasonal_vaccine │\n",
       "│ ---        ┆ ---           ┆ ---          ┆ ---              │\n",
       "│ str        ┆ f64           ┆ f64          ┆ f64              │\n",
       "╞════════════╪═══════════════╪══════════════╪══════════════════╡\n",
       "│ count      ┆ 26707.0       ┆ 26707.0      ┆ 26707.0          │\n",
       "│ null_count ┆ 0.0           ┆ 0.0          ┆ 0.0              │\n",
       "│ mean       ┆ 13353.0       ┆ 0.212454     ┆ 0.465608         │\n",
       "│ std        ┆ 7709.791156   ┆ 0.409052     ┆ 0.498825         │\n",
       "│ min        ┆ 0.0           ┆ 0.0          ┆ 0.0              │\n",
       "│ 25%        ┆ 6677.0        ┆ 0.0          ┆ 0.0              │\n",
       "│ 50%        ┆ 13353.0       ┆ 0.0          ┆ 0.0              │\n",
       "│ 75%        ┆ 20030.0       ┆ 0.0          ┆ 1.0              │\n",
       "│ max        ┆ 26706.0       ┆ 1.0          ┆ 1.0              │\n",
       "└────────────┴───────────────┴──────────────┴──────────────────┘"
      ]
     },
     "execution_count": 15,
     "metadata": {},
     "output_type": "execute_result"
    }
   ],
   "source": [
    "labels.describe()"
   ]
  },
  {
   "cell_type": "markdown",
   "metadata": {},
   "source": [
    "No missinf data and values are either 0 or 1 (100 % probability)"
   ]
  },
  {
   "cell_type": "code",
   "execution_count": 29,
   "metadata": {},
   "outputs": [],
   "source": [
    "fts = labels.join(df, on=\"respondent_id\", how=\"inner\")"
   ]
  },
  {
   "cell_type": "code",
   "execution_count": 30,
   "metadata": {},
   "outputs": [
    {
     "data": {
      "text/plain": [
       "(26707, 38)"
      ]
     },
     "execution_count": 30,
     "metadata": {},
     "output_type": "execute_result"
    }
   ],
   "source": [
    "# check shape, in case some rows are missing\n",
    "fts.shape"
   ]
  }
 ],
 "metadata": {
  "kernelspec": {
   "display_name": "polars_env",
   "language": "python",
   "name": "python3"
  },
  "language_info": {
   "codemirror_mode": {
    "name": "ipython",
    "version": 3
   },
   "file_extension": ".py",
   "mimetype": "text/x-python",
   "name": "python",
   "nbconvert_exporter": "python",
   "pygments_lexer": "ipython3",
   "version": "3.12.3"
  }
 },
 "nbformat": 4,
 "nbformat_minor": 2
}
