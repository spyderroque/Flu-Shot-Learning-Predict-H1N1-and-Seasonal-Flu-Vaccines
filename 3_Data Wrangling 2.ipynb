{
 "cells": [
  {
   "cell_type": "code",
   "execution_count": 1,
   "metadata": {},
   "outputs": [],
   "source": [
    "import polars as pl\n",
    "from sklearn.preprocessing import LabelEncoder \n",
    "import numpy as np\n",
    "import plotly.express as px\n",
    "import json"
   ]
  },
  {
   "cell_type": "code",
   "execution_count": 2,
   "metadata": {},
   "outputs": [],
   "source": [
    "df = pl.scan_csv(\"Data/training_set_features.csv\")"
   ]
  },
  {
   "cell_type": "code",
   "execution_count": 3,
   "metadata": {},
   "outputs": [],
   "source": [
    "labels = pl.scan_csv(\"Data/training_set_labels.csv\")"
   ]
  },
  {
   "cell_type": "code",
   "execution_count": 4,
   "metadata": {},
   "outputs": [],
   "source": [
    "fts = df.join(labels, on=\"respondent_id\", how=\"left\")"
   ]
  },
  {
   "cell_type": "code",
   "execution_count": 5,
   "metadata": {},
   "outputs": [],
   "source": [
    "le_age_group = LabelEncoder()\n",
    "le_education = LabelEncoder()\n",
    "le_race = LabelEncoder()\n",
    "le_sex = LabelEncoder()\n",
    "le_income_poverty = LabelEncoder()\n",
    "le_marital_status = LabelEncoder()\n",
    "le_rent_or_own = LabelEncoder()\n",
    "le_employment_status = LabelEncoder()\n",
    "le_hhs_geo_region = LabelEncoder()\n",
    "le_census_msa = LabelEncoder()\n",
    "le_employment_industry = LabelEncoder()\n",
    "le_employment_occupation = LabelEncoder()"
   ]
  },
  {
   "cell_type": "code",
   "execution_count": 6,
   "metadata": {},
   "outputs": [],
   "source": [
    "fts_nonull = fts.drop('health_insurance', 'employment_industry', 'employment_occupation').drop_nulls()\n",
    "fts_nonull = fts_nonull.with_columns(\n",
    "    pl.col(\"age_group\").map_batches(le_age_group.fit_transform),\n",
    "    pl.col(\"education\").map_batches(le_education.fit_transform),\n",
    "    pl.col(\"race\").map_batches(le_race.fit_transform),\t\n",
    "    pl.col(\"sex\").map_batches(le_sex.fit_transform),\n",
    "    pl.col(\"income_poverty\").map_batches(le_income_poverty.fit_transform),\n",
    "    pl.col(\"marital_status\").map_batches(le_marital_status.fit_transform),\n",
    "    pl.col(\"rent_or_own\").map_batches(le_rent_or_own.fit_transform),\n",
    "    pl.col(\"employment_status\").map_batches(le_employment_status.fit_transform),\n",
    "    pl.col(\"hhs_geo_region\").map_batches(le_hhs_geo_region.fit_transform),\n",
    "    pl.col(\"census_msa\").map_batches(le_census_msa.fit_transform),\n",
    ")"
   ]
  },
  {
   "cell_type": "code",
   "execution_count": 7,
   "metadata": {},
   "outputs": [],
   "source": [
    "fts_nonull.collect().write_parquet(\"ETL/fts_nonull.parquet\")"
   ]
  },
  {
   "cell_type": "code",
   "execution_count": 8,
   "metadata": {},
   "outputs": [],
   "source": [
    "le_fts_nonull = {\"le_age_group\": le_age_group.classes_.tolist(), \"le_education\": le_education.classes_.tolist(),\"le_race\": le_race.classes_.tolist(),\"le_sex\": le_sex.classes_.tolist(),\n",
    "                 \"le_income_poverty\": le_income_poverty.classes_.tolist(), \"le_marital_status\": le_marital_status.classes_.tolist(),\n",
    "                 \"le_rent_or_own\": le_rent_or_own.classes_.tolist(), \"le_employment_status\": le_employment_status.classes_.tolist(),\n",
    "                 \"le_hhs_geo_region\": le_hhs_geo_region.classes_.tolist(), \"le_census_msa\": le_census_msa.classes_.tolist()}"
   ]
  },
  {
   "cell_type": "code",
   "execution_count": 9,
   "metadata": {},
   "outputs": [],
   "source": [
    "with open(\"ETL/le_fts_nonull.json\", \"w\") as writefile:\n",
    "    writefile.write(json.dumps(le_fts_nonull))"
   ]
  },
  {
   "cell_type": "code",
   "execution_count": 10,
   "metadata": {},
   "outputs": [],
   "source": [
    "fts_null = fts.drop('health_insurance', 'employment_industry', 'employment_occupation')\n",
    "fts_null = fts_null.with_columns(\n",
    "    pl.col(\"age_group\").map_batches(le_age_group.fit_transform),\n",
    "    pl.col(\"education\").map_batches(le_education.fit_transform),\n",
    "    pl.col(\"race\").map_batches(le_race.fit_transform),\t\n",
    "    pl.col(\"sex\").map_batches(le_sex.fit_transform),\n",
    "    pl.col(\"income_poverty\").map_batches(le_income_poverty.fit_transform),\n",
    "    pl.col(\"marital_status\").map_batches(le_marital_status.fit_transform),\n",
    "    pl.col(\"rent_or_own\").map_batches(le_rent_or_own.fit_transform),\n",
    "    pl.col(\"employment_status\").map_batches(le_employment_status.fit_transform),\n",
    "    pl.col(\"hhs_geo_region\").map_batches(le_hhs_geo_region.fit_transform),\n",
    "    pl.col(\"census_msa\").map_batches(le_census_msa.fit_transform),\n",
    ")\n",
    "fts_null.collect().write_parquet(\"ETL/fts_null.parquet\")\n",
    "le_fts_null = {\"le_age_group\": le_age_group.classes_.tolist(), \"le_education\": le_education.classes_.tolist(),\"le_race\": le_race.classes_.tolist(),\"le_sex\": le_sex.classes_.tolist(),\n",
    "                 \"le_income_poverty\": le_income_poverty.classes_.tolist(), \"le_marital_status\": le_marital_status.classes_.tolist(),\n",
    "                 \"le_rent_or_own\": le_rent_or_own.classes_.tolist(), \"le_employment_status\": le_employment_status.classes_.tolist(),\n",
    "                 \"le_hhs_geo_region\": le_hhs_geo_region.classes_.tolist(), \"le_census_msa\": le_census_msa.classes_.tolist()}\n"
   ]
  },
  {
   "cell_type": "code",
   "execution_count": 11,
   "metadata": {},
   "outputs": [],
   "source": [
    "with open(\"ETL/le_fts_null.json\", \"w\") as writefile:\n",
    "    writefile.write(json.dumps(le_fts_null))"
   ]
  },
  {
   "cell_type": "code",
   "execution_count": null,
   "metadata": {},
   "outputs": [],
   "source": []
  }
 ],
 "metadata": {
  "kernelspec": {
   "display_name": "polars_env",
   "language": "python",
   "name": "python3"
  },
  "language_info": {
   "codemirror_mode": {
    "name": "ipython",
    "version": 3
   },
   "file_extension": ".py",
   "mimetype": "text/x-python",
   "name": "python",
   "nbconvert_exporter": "python",
   "pygments_lexer": "ipython3",
   "version": "3.12.3"
  }
 },
 "nbformat": 4,
 "nbformat_minor": 2
}
